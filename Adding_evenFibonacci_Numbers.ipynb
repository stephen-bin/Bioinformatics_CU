{
 "cells": [
  {
   "cell_type": "code",
   "execution_count": 38,
   "id": "4c35ea65-4363-4910-a808-6fb2959607f2",
   "metadata": {
    "tags": []
   },
   "outputs": [
    {
     "name": "stdout",
     "output_type": "stream",
     "text": [
      "3382\n",
      "Beyond signed 32-bits\n"
     ]
    }
   ],
   "source": [
    "#Name: Stephen Npoandan Binaansim @Covenant University\n",
    "def evenSum_Fib(limit):\n",
    "    ''' \n",
    "    n serves as the limits. \n",
    "    initializing the first two even fibonacci sequence f(1)=1, f(2)=1, f(n+1)=f(n)+f(n-1)\n",
    "    Fibonacci Seq are 0, 1, 1, 2, 3, 5, 8, 13, 21, 34, 55, 89, 144, ...\n",
    "    calculating sum of even Fibonacci value (0 + 2 + 8 + 34, 144 ...) where [f(n+1) = 4*f(n) + f(n-1)]\n",
    "    '''\n",
    "    F1 = 0\n",
    "    F2 = 2\n",
    "    sum_of_evenFib = F1+F2\n",
    "    \n",
    "    if (n < 2) :\n",
    "        return 0\n",
    "      \n",
    "    while (F2 <= limit) :\n",
    "         # get next even value of Fibonacci\n",
    "        # sequence\n",
    "        next_value= 4 * F2 + F1\n",
    " \n",
    "        #for values beyond n, we breat the loop\n",
    "        if (next_value > limit) :\n",
    "            break\n",
    " \n",
    "        # Move to next even number and update\n",
    "        # sum\n",
    "        F1 = F2\n",
    "        F2 = next_value\n",
    "        sum_of_evenFib = sum_of_evenFib + F2 \n",
    "    #Checking that the signed 32-bit integer condition is met\n",
    "    if sum_of_evenFib.bit_length() <= 31:\n",
    "        return sum_of_evenFib\n",
    "    else: \n",
    "        return \"Beyond signed 32-bits\"\n",
    " \n",
    "# Trail Code\n",
    "#within signed 32-bit integers\n",
    "n = 7000\n",
    "print(evenSum_Fib(n))\n",
    "#Beyond signed 32-bit integers\n",
    "m = 55555555555555555555\n",
    "print(evenSum_Fib(m))"
   ]
  }
 ],
 "metadata": {
  "kernelspec": {
   "display_name": "Python 3 (ipykernel)",
   "language": "python",
   "name": "python3"
  },
  "language_info": {
   "codemirror_mode": {
    "name": "ipython",
    "version": 3
   },
   "file_extension": ".py",
   "mimetype": "text/x-python",
   "name": "python",
   "nbconvert_exporter": "python",
   "pygments_lexer": "ipython3",
   "version": "3.9.7"
  }
 },
 "nbformat": 4,
 "nbformat_minor": 5
}
