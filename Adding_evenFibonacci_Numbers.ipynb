{
 "cells": [
  {
   "cell_type": "code",
   "execution_count": 38,
   "id": "4c35ea65-4363-4910-a808-6fb2959607f2",
   "metadata": {
    "tags": []
   },
   "outputs": [
    {
     "name": "stdout",
     "output_type": "stream",
     "text": [
      "3382\n",
      "Beyond signed 32-bits\n"
     ]
    }
   ],
   "source": [
    "#Name: Stephen Npoandan Binaansim @Covenant University\n",
    "def evenSum_Fib(limit):\n",
    "    ''' \n",
    "    n serves as the limits. \n",
    "    initializing the first two even fibonacci sequence f(1)=1, f(2)=1, f(n+1)=f(n)+f(n-1)\n",
    "    Fibonacci Seq are 0, 1, 1, 2, 3, 5, 8, 13, 21, 34, 55, 89, 144, ...\n",
    "    calculating sum of even Fibonacci value (0 + 2 + 8 + 34, 144 ...) where [f(n+1) = 4*f(n) + f(n-1)]\n",
    "    '''\n",
    "    F1 = 0\n",
    "    F2 = 2\n",
    "    sum_of_evenFib = F1+F2\n",
    "    \n",
    "    if (n < 2) :\n",
    "        return 0\n",
    "      \n",
    "    while (F2 <= limit) :\n",
    "         # get next even value of Fibonacci\n",
    "        # sequence\n",
    "        next_value= 4 * F2 + F1\n",
    " \n",
    "        #for values beyond n, we breat the loop\n",
    "        if (next_value > limit) :\n",
    "            break\n",
    " \n",
    "        # Move to next even number and update\n",
    "        # sum\n",
    "        F1 = F2\n",
    "        F2 = next_value\n",
    "        sum_of_evenFib = sum_of_evenFib + F2 \n",
    "    #Checking that the signed 32-bit integer condition is met\n",
    "    if sum_of_evenFib.bit_length() <= 31:\n",
    "        return sum_of_evenFib\n",
    "    else: \n",
    "        return \"Beyond signed 32-bits\"\n",
    " \n",
    "# Trail Code\n",
    "#within signed 32-bit integers\n",
    "n = 7000\n",
    "print(evenSum_Fib(n))\n",
    "#Beyond signed 32-bit integers\n",
    "m = 55555555555555555555\n",
    "print(evenSum_Fib(m))"
   ]
  },
  {
   "cell_type": "code",
   "execution_count": 25,
   "id": "fe217ee9-038d-431d-aefc-0331b69e6fae",
   "metadata": {},
   "outputs": [],
   "source": [
    "import cobra\n",
    "from cobra.io import load_model\n",
    "from cobra import Model, Reaction, Metabolite"
   ]
  },
  {
   "cell_type": "code",
   "execution_count": 26,
   "id": "cff40056-b0e5-4ae2-8d1d-4a196188cd71",
   "metadata": {},
   "outputs": [],
   "source": [
    "model = Model('example_model')\n",
    "\n",
    "reaction = Reaction('R_3OAS140')\n",
    "reaction.name = '3 oxoacyl acyl carrier protein synthase n C140 '\n",
    "reaction.subsystem = 'Cell Envelope Biosynthesis'\n",
    "reaction.lower_bound = 0.  # This is the default\n",
    "reaction.upper_bound = 1000.  # This is the default"
   ]
  },
  {
   "cell_type": "code",
   "execution_count": 17,
   "id": "a2fb7519-8a95-4b03-bb13-3380cff0b971",
   "metadata": {},
   "outputs": [
    {
     "name": "stdout",
     "output_type": "stream",
     "text": [
      "95\n",
      "72\n",
      "137\n"
     ]
    }
   ],
   "source": [
    "print(len(model.reactions))\n",
    "print(len(model.metabolites))\n",
    "print(len(model.genes))"
   ]
  },
  {
   "cell_type": "markdown",
   "id": "ae359d55-8e7c-4de8-995f-7da9dede7374",
   "metadata": {},
   "source": [
    "model"
   ]
  },
  {
   "cell_type": "code",
   "execution_count": null,
   "id": "0f0c4743-4c62-4cf3-81d8-f1355af3c5fb",
   "metadata": {},
   "outputs": [],
   "source": [
    "model = load_model(\"iYS1720\")"
   ]
  },
  {
   "cell_type": "code",
   "execution_count": 22,
   "id": "e843a2bf-9c5d-4f7c-833e-cb306862d379",
   "metadata": {},
   "outputs": [
    {
     "data": {
      "text/html": [
       "\n",
       "        <table>\n",
       "            <tr>\n",
       "                <td><strong>Gene identifier</strong></td><td>b0351</td>\n",
       "            </tr><tr>\n",
       "                <td><strong>Name</strong></td><td>mhpF</td>\n",
       "            </tr><tr>\n",
       "                <td><strong>Memory address</strong></td>\n",
       "                <td>0x7fe9d838c040</td>\n",
       "            </tr><tr>\n",
       "                <td><strong>Functional</strong></td><td>True</td>\n",
       "            </tr><tr>\n",
       "                <td><strong>In 1 reaction(s)</strong></td><td>\n",
       "                    ACALD\n",
       "                    </td>\n",
       "            </tr>\n",
       "        </table>"
      ],
      "text/plain": [
       "<Gene b0351 at 0x7fe9d838c040>"
      ]
     },
     "execution_count": 22,
     "metadata": {},
     "output_type": "execute_result"
    }
   ],
   "source": [
    "model.genes[1]"
   ]
  },
  {
   "cell_type": "code",
   "execution_count": 3,
   "id": "e29aa056-57f5-4d56-89e9-73c8a47c6efc",
   "metadata": {},
   "outputs": [
    {
     "name": "stdout",
     "output_type": "stream",
     "text": [
      "64\n",
      "64\n"
     ]
    }
   ],
   "source": [
    "int_val = 30000000000\n",
    "if int_val.bit_length() <= 63:\n",
    "    print((-2 ** 63).bit_length())\n",
    "    print((2 ** 63).bit_length())\n"
   ]
  },
  {
   "cell_type": "code",
   "execution_count": null,
   "id": "6c14428f-582f-487a-9511-d65091562a52",
   "metadata": {},
   "outputs": [],
   "source": []
  }
 ],
 "metadata": {
  "kernelspec": {
   "display_name": "Python 3 (ipykernel)",
   "language": "python",
   "name": "python3"
  },
  "language_info": {
   "codemirror_mode": {
    "name": "ipython",
    "version": 3
   },
   "file_extension": ".py",
   "mimetype": "text/x-python",
   "name": "python",
   "nbconvert_exporter": "python",
   "pygments_lexer": "ipython3",
   "version": "3.9.7"
  }
 },
 "nbformat": 4,
 "nbformat_minor": 5
}
